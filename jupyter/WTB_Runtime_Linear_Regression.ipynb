{
 "cells": [
  {
   "cell_type": "code",
   "execution_count": 17,
   "metadata": {},
   "outputs": [],
   "source": [
    "from sklearn import linear_model\n",
    "import pandas as pd\n",
    "import numpy as np"
   ]
  },
  {
   "cell_type": "code",
   "execution_count": 3,
   "metadata": {},
   "outputs": [],
   "source": [
    "df = pd.read_csv(\"./Linear_R.csv\")"
   ]
  },
  {
   "cell_type": "code",
   "execution_count": 4,
   "metadata": {},
   "outputs": [
    {
     "data": {
      "text/html": [
       "<div>\n",
       "<style scoped>\n",
       "    .dataframe tbody tr th:only-of-type {\n",
       "        vertical-align: middle;\n",
       "    }\n",
       "\n",
       "    .dataframe tbody tr th {\n",
       "        vertical-align: top;\n",
       "    }\n",
       "\n",
       "    .dataframe thead th {\n",
       "        text-align: right;\n",
       "    }\n",
       "</style>\n",
       "<table border=\"1\" class=\"dataframe\">\n",
       "  <thead>\n",
       "    <tr style=\"text-align: right;\">\n",
       "      <th></th>\n",
       "      <th>image_num</th>\n",
       "      <th>euca_runtime</th>\n",
       "      <th>cpu_runtime</th>\n",
       "      <th>gpu1_runtime</th>\n",
       "      <th>gpu2_runtime</th>\n",
       "    </tr>\n",
       "  </thead>\n",
       "  <tbody>\n",
       "    <tr>\n",
       "      <th>0</th>\n",
       "      <td>1</td>\n",
       "      <td>18.634279</td>\n",
       "      <td>38.524281</td>\n",
       "      <td>93.625885</td>\n",
       "      <td>143.120976</td>\n",
       "    </tr>\n",
       "    <tr>\n",
       "      <th>1</th>\n",
       "      <td>10</td>\n",
       "      <td>39.431859</td>\n",
       "      <td>38.938355</td>\n",
       "      <td>95.989149</td>\n",
       "      <td>145.682916</td>\n",
       "    </tr>\n",
       "    <tr>\n",
       "      <th>2</th>\n",
       "      <td>20</td>\n",
       "      <td>54.383729</td>\n",
       "      <td>53.521659</td>\n",
       "      <td>98.451680</td>\n",
       "      <td>147.470487</td>\n",
       "    </tr>\n",
       "    <tr>\n",
       "      <th>3</th>\n",
       "      <td>30</td>\n",
       "      <td>84.973366</td>\n",
       "      <td>68.942382</td>\n",
       "      <td>100.222985</td>\n",
       "      <td>150.572095</td>\n",
       "    </tr>\n",
       "    <tr>\n",
       "      <th>4</th>\n",
       "      <td>40</td>\n",
       "      <td>111.842143</td>\n",
       "      <td>83.197879</td>\n",
       "      <td>107.468535</td>\n",
       "      <td>151.564709</td>\n",
       "    </tr>\n",
       "  </tbody>\n",
       "</table>\n",
       "</div>"
      ],
      "text/plain": [
       "   image_num  euca_runtime  cpu_runtime  gpu1_runtime  gpu2_runtime\n",
       "0          1     18.634279    38.524281     93.625885    143.120976\n",
       "1         10     39.431859    38.938355     95.989149    145.682916\n",
       "2         20     54.383729    53.521659     98.451680    147.470487\n",
       "3         30     84.973366    68.942382    100.222985    150.572095\n",
       "4         40    111.842143    83.197879    107.468535    151.564709"
      ]
     },
     "execution_count": 4,
     "metadata": {},
     "output_type": "execute_result"
    }
   ],
   "source": [
    "df.head()"
   ]
  },
  {
   "cell_type": "code",
   "execution_count": 27,
   "metadata": {},
   "outputs": [],
   "source": [
    "image_num = df[['image_num']]\n",
    "euca_runtime = df['euca_runtime']\n",
    "cpu_runtime = df['cpu_runtime']\n",
    "gpu1_runtime = df['gpu1_runtime']\n",
    "gpu2_runtime = df['gpu2_runtime']"
   ]
  },
  {
   "cell_type": "code",
   "execution_count": 39,
   "metadata": {},
   "outputs": [
    {
     "name": "stdout",
     "output_type": "stream",
     "text": [
      "[2.39549861]\n",
      "13.600537473199736\n"
     ]
    }
   ],
   "source": [
    "model_euca = linear_model.BayesianRidge()\n",
    "model_euca.fit(image_num, euca_runtime)\n",
    "print(model_euca.coef_)\n",
    "print(model_euca.intercept_)"
   ]
  },
  {
   "cell_type": "code",
   "execution_count": 37,
   "metadata": {},
   "outputs": [
    {
     "name": "stdout",
     "output_type": "stream",
     "text": [
      "[1.35328625]\n",
      "29.910393951759985\n"
     ]
    }
   ],
   "source": [
    "model_cpu = linear_model.BayesianRidge()\n",
    "model_cpu.fit(image_num, cpu_runtime)\n",
    "print(model_cpu.coef_)\n",
    "print(model_cpu.intercept_)"
   ]
  },
  {
   "cell_type": "code",
   "execution_count": 36,
   "metadata": {},
   "outputs": [
    {
     "name": "stdout",
     "output_type": "stream",
     "text": [
      "[0.34666546]\n",
      "92.16208453231344\n"
     ]
    }
   ],
   "source": [
    "model_gpu1 = linear_model.BayesianRidge()\n",
    "model_gpu1.fit(image_num, gpu1_runtime)\n",
    "print(model_gpu1.coef_)\n",
    "print(model_gpu1.intercept_)"
   ]
  },
  {
   "cell_type": "code",
   "execution_count": 38,
   "metadata": {},
   "outputs": [
    {
     "name": "stdout",
     "output_type": "stream",
     "text": [
      "[0.21877092]\n",
      "143.26647033799347\n"
     ]
    }
   ],
   "source": [
    "model_gpu2 = linear_model.BayesianRidge()\n",
    "model_gpu2.fit(image_num, gpu2_runtime)\n",
    "print(model_gpu2.coef_)\n",
    "print(model_gpu2.intercept_)"
   ]
  },
  {
   "cell_type": "code",
   "execution_count": null,
   "metadata": {},
   "outputs": [],
   "source": []
  }
 ],
 "metadata": {
  "kernelspec": {
   "display_name": "Python 3",
   "language": "python",
   "name": "python3"
  },
  "language_info": {
   "codemirror_mode": {
    "name": "ipython",
    "version": 3
   },
   "file_extension": ".py",
   "mimetype": "text/x-python",
   "name": "python",
   "nbconvert_exporter": "python",
   "pygments_lexer": "ipython3",
   "version": "3.6.8"
  }
 },
 "nbformat": 4,
 "nbformat_minor": 2
}
