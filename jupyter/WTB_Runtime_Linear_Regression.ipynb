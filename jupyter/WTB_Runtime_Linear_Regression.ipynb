{
 "cells": [
  {
   "cell_type": "code",
   "execution_count": 1,
   "metadata": {},
   "outputs": [],
   "source": [
    "from sklearn import linear_model\n",
    "import pandas as pd\n",
    "import numpy as np"
   ]
  },
  {
   "cell_type": "code",
   "execution_count": 2,
   "metadata": {},
   "outputs": [],
   "source": [
    "df = pd.read_csv(\"./Linear_R.csv\")"
   ]
  },
  {
   "cell_type": "code",
   "execution_count": 3,
   "metadata": {
    "scrolled": true
   },
   "outputs": [
    {
     "data": {
      "text/html": [
       "<div>\n",
       "<style scoped>\n",
       "    .dataframe tbody tr th:only-of-type {\n",
       "        vertical-align: middle;\n",
       "    }\n",
       "\n",
       "    .dataframe tbody tr th {\n",
       "        vertical-align: top;\n",
       "    }\n",
       "\n",
       "    .dataframe thead th {\n",
       "        text-align: right;\n",
       "    }\n",
       "</style>\n",
       "<table border=\"1\" class=\"dataframe\">\n",
       "  <thead>\n",
       "    <tr style=\"text-align: right;\">\n",
       "      <th></th>\n",
       "      <th>image_num</th>\n",
       "      <th>euca_runtime</th>\n",
       "      <th>cpu_runtime</th>\n",
       "      <th>gpu1_runtime</th>\n",
       "      <th>gpu2_runtime</th>\n",
       "    </tr>\n",
       "  </thead>\n",
       "  <tbody>\n",
       "    <tr>\n",
       "      <th>0</th>\n",
       "      <td>1</td>\n",
       "      <td>18.634279</td>\n",
       "      <td>23.504808</td>\n",
       "      <td>29.606411</td>\n",
       "      <td>21.101503</td>\n",
       "    </tr>\n",
       "    <tr>\n",
       "      <th>1</th>\n",
       "      <td>10</td>\n",
       "      <td>39.431859</td>\n",
       "      <td>23.743624</td>\n",
       "      <td>31.794418</td>\n",
       "      <td>23.488186</td>\n",
       "    </tr>\n",
       "    <tr>\n",
       "      <th>2</th>\n",
       "      <td>20</td>\n",
       "      <td>54.383729</td>\n",
       "      <td>38.132197</td>\n",
       "      <td>34.062218</td>\n",
       "      <td>25.081025</td>\n",
       "    </tr>\n",
       "    <tr>\n",
       "      <th>3</th>\n",
       "      <td>30</td>\n",
       "      <td>84.973366</td>\n",
       "      <td>53.358190</td>\n",
       "      <td>35.638793</td>\n",
       "      <td>27.987903</td>\n",
       "    </tr>\n",
       "    <tr>\n",
       "      <th>4</th>\n",
       "      <td>40</td>\n",
       "      <td>111.842143</td>\n",
       "      <td>67.418957</td>\n",
       "      <td>42.689612</td>\n",
       "      <td>28.785786</td>\n",
       "    </tr>\n",
       "  </tbody>\n",
       "</table>\n",
       "</div>"
      ],
      "text/plain": [
       "   image_num  euca_runtime  cpu_runtime  gpu1_runtime  gpu2_runtime\n",
       "0          1     18.634279    23.504808     29.606411     21.101503\n",
       "1         10     39.431859    23.743624     31.794418     23.488186\n",
       "2         20     54.383729    38.132197     34.062218     25.081025\n",
       "3         30     84.973366    53.358190     35.638793     27.987903\n",
       "4         40    111.842143    67.418957     42.689612     28.785786"
      ]
     },
     "execution_count": 3,
     "metadata": {},
     "output_type": "execute_result"
    }
   ],
   "source": [
    "df.head()"
   ]
  },
  {
   "cell_type": "code",
   "execution_count": 4,
   "metadata": {},
   "outputs": [],
   "source": [
    "image_num = df[['image_num']]\n",
    "euca_runtime = df['euca_runtime']\n",
    "cpu_runtime = df['cpu_runtime']\n",
    "gpu1_runtime = df['gpu1_runtime']\n",
    "gpu2_runtime = df['gpu2_runtime']"
   ]
  },
  {
   "cell_type": "markdown",
   "metadata": {},
   "source": [
    "### Model the runtime by Baysian Ridge Regression"
   ]
  },
  {
   "cell_type": "code",
   "execution_count": 5,
   "metadata": {},
   "outputs": [
    {
     "name": "stdout",
     "output_type": "stream",
     "text": [
      "[2.39549861]\n",
      "13.600537473199736\n"
     ]
    }
   ],
   "source": [
    "model_euca = linear_model.BayesianRidge()\n",
    "model_euca.fit(image_num, euca_runtime)\n",
    "print(model_euca.coef_)\n",
    "print(model_euca.intercept_)"
   ]
  },
  {
   "cell_type": "code",
   "execution_count": 6,
   "metadata": {},
   "outputs": [
    {
     "name": "stdout",
     "output_type": "stream",
     "text": [
      "[1.33380247]\n",
      "14.91093042617645\n"
     ]
    }
   ],
   "source": [
    "model_cpu = linear_model.BayesianRidge()\n",
    "model_cpu.fit(image_num, cpu_runtime)\n",
    "print(model_cpu.coef_)\n",
    "print(model_cpu.intercept_)"
   ]
  },
  {
   "cell_type": "code",
   "execution_count": 7,
   "metadata": {},
   "outputs": [
    {
     "name": "stdout",
     "output_type": "stream",
     "text": [
      "[0.3271631]\n",
      "28.163551818338643\n"
     ]
    }
   ],
   "source": [
    "model_gpu1 = linear_model.BayesianRidge()\n",
    "model_gpu1.fit(image_num, gpu1_runtime)\n",
    "print(model_gpu1.coef_)\n",
    "print(model_gpu1.intercept_)"
   ]
  },
  {
   "cell_type": "code",
   "execution_count": 8,
   "metadata": {},
   "outputs": [
    {
     "name": "stdout",
     "output_type": "stream",
     "text": [
      "[0.19928721]\n",
      "21.267003248222906\n"
     ]
    }
   ],
   "source": [
    "model_gpu2 = linear_model.BayesianRidge()\n",
    "model_gpu2.fit(image_num, gpu2_runtime)\n",
    "print(model_gpu2.coef_)\n",
    "print(model_gpu2.intercept_)"
   ]
  },
  {
   "cell_type": "code",
   "execution_count": null,
   "metadata": {},
   "outputs": [],
   "source": []
  }
 ],
 "metadata": {
  "kernelspec": {
   "display_name": "Python 3",
   "language": "python",
   "name": "python3"
  },
  "language_info": {
   "codemirror_mode": {
    "name": "ipython",
    "version": 3
   },
   "file_extension": ".py",
   "mimetype": "text/x-python",
   "name": "python",
   "nbconvert_exporter": "python",
   "pygments_lexer": "ipython3",
   "version": "3.6.8"
  }
 },
 "nbformat": 4,
 "nbformat_minor": 2
}
